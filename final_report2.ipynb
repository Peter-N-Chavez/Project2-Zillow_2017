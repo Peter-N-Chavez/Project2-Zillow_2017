{
 "cells": [
  {
   "cell_type": "code",
   "execution_count": 1,
   "metadata": {},
   "outputs": [],
   "source": [
    "# Required imports for the report.\n",
    "import numpy as np\n",
    "import scipy.stats as stats\n",
    "import pandas as pd\n",
    "import matplotlib.pyplot as plt\n",
    "import matplotlib.image as mpimg\n",
    "import seaborn as sns\n",
    "import urllib.request\n",
    "from PIL import Image\n",
    "from pydataset import data\n",
    "from sklearn.model_selection import train_test_split\n",
    "from sklearn.impute import SimpleImputer\n",
    "from sklearn.metrics import classification_report\n",
    "from sklearn.metrics import confusion_matrix\n",
    "from sklearn.metrics import accuracy_score\n",
    "from sklearn.feature_selection import chi2\n",
    "from sklearn.preprocessing import MinMaxScaler, StandardScaler, RobustScaler, QuantileTransformer\n",
    "from sklearn.feature_selection import SelectKBest, f_regression, RFE\n",
    "from sklearn.metrics import mean_squared_error, explained_variance_score, r2_score\n",
    "from sklearn.preprocessing import PolynomialFeatures\n",
    "from sklearn import linear_model as lm\n",
    "from wrangle2 import *\n",
    "from explore2 import *\n",
    "from modeling2 import *\n",
    "import env\n",
    "import os\n",
    "pd.options.mode.chained_assignment = None"
   ]
  },
  {
   "cell_type": "markdown",
   "metadata": {},
   "source": [
    "# Zillow Pricing Estimates - A Project on Linear Regression\n",
    "\n",
    "#### The purpose of this project was to use linear regression techniques to desgin a model that could estimate the pricing of Single Family Properties based on the tax value. The dataset was acquired from a Zillow database and used data from 2017. Homes that were considered equivalent to single family properties were included."
   ]
  },
  {
   "cell_type": "markdown",
   "metadata": {},
   "source": [
    "## Project Goals:\n",
    "\n",
    "#### - Create a model that can predict the tax evaluation with greater accuracy than baseline.\n",
    "\n",
    "#### - Avoid unrelated correlations and find useful drivers for the model, and then make recommendations to improve the model."
   ]
  },
  {
   "cell_type": "markdown",
   "metadata": {},
   "source": [
    "## Wrangling the Data"
   ]
  },
  {
   "cell_type": "code",
   "execution_count": 2,
   "metadata": {},
   "outputs": [
    {
     "name": "stdout",
     "output_type": "stream",
     "text": [
      "Number of observations removed: 8161\n"
     ]
    }
   ],
   "source": [
    "train, validate, test = wrangle_zillow()"
   ]
  },
  {
   "cell_type": "code",
   "execution_count": 3,
   "metadata": {},
   "outputs": [
    {
     "data": {
      "text/html": [
       "<div>\n",
       "<style scoped>\n",
       "    .dataframe tbody tr th:only-of-type {\n",
       "        vertical-align: middle;\n",
       "    }\n",
       "\n",
       "    .dataframe tbody tr th {\n",
       "        vertical-align: top;\n",
       "    }\n",
       "\n",
       "    .dataframe thead th {\n",
       "        text-align: right;\n",
       "    }\n",
       "</style>\n",
       "<table border=\"1\" class=\"dataframe\">\n",
       "  <thead>\n",
       "    <tr style=\"text-align: right;\">\n",
       "      <th></th>\n",
       "      <th>35903</th>\n",
       "      <th>32641</th>\n",
       "      <th>41241</th>\n",
       "    </tr>\n",
       "  </thead>\n",
       "  <tbody>\n",
       "    <tr>\n",
       "      <th>parcelid</th>\n",
       "      <td>11291200</td>\n",
       "      <td>13968269</td>\n",
       "      <td>12783351</td>\n",
       "    </tr>\n",
       "    <tr>\n",
       "      <th>bedroomcnt</th>\n",
       "      <td>3.0</td>\n",
       "      <td>4.0</td>\n",
       "      <td>3.0</td>\n",
       "    </tr>\n",
       "    <tr>\n",
       "      <th>bathroomcnt</th>\n",
       "      <td>2.0</td>\n",
       "      <td>2.5</td>\n",
       "      <td>2.0</td>\n",
       "    </tr>\n",
       "    <tr>\n",
       "      <th>cal_fin_sqf</th>\n",
       "      <td>1170.0</td>\n",
       "      <td>2579.0</td>\n",
       "      <td>1726.0</td>\n",
       "    </tr>\n",
       "    <tr>\n",
       "      <th>tax_val</th>\n",
       "      <td>124263.0</td>\n",
       "      <td>99083.0</td>\n",
       "      <td>62913.0</td>\n",
       "    </tr>\n",
       "    <tr>\n",
       "      <th>year_built</th>\n",
       "      <td>1956</td>\n",
       "      <td>1969</td>\n",
       "      <td>1919</td>\n",
       "    </tr>\n",
       "    <tr>\n",
       "      <th>taxamount</th>\n",
       "      <td>2250.2</td>\n",
       "      <td>1585.88</td>\n",
       "      <td>1201.62</td>\n",
       "    </tr>\n",
       "    <tr>\n",
       "      <th>fips</th>\n",
       "      <td>f6037</td>\n",
       "      <td>f6059</td>\n",
       "      <td>f6037</td>\n",
       "    </tr>\n",
       "    <tr>\n",
       "      <th>f6037</th>\n",
       "      <td>1</td>\n",
       "      <td>0</td>\n",
       "      <td>1</td>\n",
       "    </tr>\n",
       "    <tr>\n",
       "      <th>f6059</th>\n",
       "      <td>0</td>\n",
       "      <td>1</td>\n",
       "      <td>0</td>\n",
       "    </tr>\n",
       "    <tr>\n",
       "      <th>f6111</th>\n",
       "      <td>0</td>\n",
       "      <td>0</td>\n",
       "      <td>0</td>\n",
       "    </tr>\n",
       "  </tbody>\n",
       "</table>\n",
       "</div>"
      ],
      "text/plain": [
       "                35903     32641     41241\n",
       "parcelid     11291200  13968269  12783351\n",
       "bedroomcnt        3.0       4.0       3.0\n",
       "bathroomcnt       2.0       2.5       2.0\n",
       "cal_fin_sqf    1170.0    2579.0    1726.0\n",
       "tax_val      124263.0   99083.0   62913.0\n",
       "year_built       1956      1969      1919\n",
       "taxamount      2250.2   1585.88   1201.62\n",
       "fips            f6037     f6059     f6037\n",
       "f6037               1         0         1\n",
       "f6059               0         1         0\n",
       "f6111               0         0         0"
      ]
     },
     "metadata": {},
     "output_type": "display_data"
    },
    {
     "data": {
      "text/plain": [
       "array(['f6037', 'f6059', 'f6111'], dtype=object)"
      ]
     },
     "metadata": {},
     "output_type": "display_data"
    },
    {
     "name": "stdout",
     "output_type": "stream",
     "text": [
      "['parcelid', 'bedroomcnt', 'bathroomcnt', 'cal_fin_sqf', 'tax_val', 'year_built', 'taxamount']\n",
      "['fips', 'f6037', 'f6059', 'f6111']\n"
     ]
    }
   ],
   "source": [
    "display(train.head(3).T)\n",
    "display(train.fips.unique())\n",
    "nums, cats = dtypes_to_list(train)\n",
    "print(nums)\n",
    "print(cats)"
   ]
  },
  {
   "cell_type": "markdown",
   "metadata": {},
   "source": [
    "## How did we wrangle the data? Some takeaways...\n",
    "\n",
    "#### The data was acquired from the server and saved into a .csv file for later use incase of connection loss. Then the outliers of the top percentile of properties were removed to avoid them skewing the data due to their value being way too high. These tax values would not be useful for our model. Errors in the data were cleaned such as missing values, improperly classified homes, and dates that were outside of 2017.\n",
    "\n",
    "#### The dataframe shows 3 FIPS codes, this means that the data is specific to these 3 counties only and is not countrywide or even statewide."
   ]
  },
  {
   "cell_type": "markdown",
   "metadata": {},
   "source": [
    "## Exploring the Data\n",
    "\n",
    "#### Since property value is relative to surrounding homes and their selling price, the variance between the 3 regions should be checked."
   ]
  },
  {
   "cell_type": "code",
   "execution_count": 4,
   "metadata": {},
   "outputs": [
    {
     "name": "stdout",
     "output_type": "stream",
     "text": [
      "False\n"
     ]
    }
   ],
   "source": [
    "f6059 = train[train.fips == \"f6059\"]\n",
    "f6037 = train[train.fips == \"f6037\"]\n",
    "f6111 = train[train.fips == \"f6111\"]\n",
    "\n",
    "α = .05\n",
    "f, p = stats.f_oneway(f6059.tax_val, f6037.tax_val, f6111.tax_val)\n",
    "print(p > α)"
   ]
  },
  {
   "cell_type": "markdown",
   "metadata": {},
   "source": [
    "#### Since the p-value for the variance test between samples was less than α, we must conclude that the location of the properties according to the FIPS code is significant and should be included in the model. This makes sense as one or more counties may be exclusively higher value properties."
   ]
  },
  {
   "cell_type": "code",
   "execution_count": 5,
   "metadata": {},
   "outputs": [
    {
     "data": {
      "image/png": "[encoded data removed]",
      "text/plain": [
       "<Figure size 1152x216 with 9 Axes>"
      ]
     },
     "metadata": {
      "needs_background": "light"
     },
     "output_type": "display_data"
    },
    {
     "data": {
      "image/png": "[encoded data removed]",
      "text/plain": [
       "<Figure size 1152x216 with 5 Axes>"
      ]
     },
     "metadata": {
      "needs_background": "light"
     },
     "output_type": "display_data"
    }
   ],
   "source": [
    "# Continuing the data exploration...\n",
    "get_box_hist_viz(train)"
   ]
  },
  {
   "cell_type": "code",
   "execution_count": 6,
   "metadata": {},
   "outputs": [
    {
     "data": {
      "image/png": "[encoded data removed]",
      "text/plain": [
       "<Figure size 1152x648 with 2 Axes>"
      ]
     },
     "metadata": {
      "needs_background": "light"
     },
     "output_type": "display_data"
    }
   ],
   "source": [
    "# Reordering the list of features to have them more easily comparable to the target.\n",
    "corr_features = nums\n",
    "neworder = [4, 1, 2, 3, 5, 6, 0]\n",
    "corr_features = [corr_features[i] for i in neworder]\n",
    "correlation_viz(train, corr_features)"
   ]
  },
  {
   "cell_type": "markdown",
   "metadata": {},
   "source": [
    "#### It is important to remember that bedrooms and bathrooms would have their own square footage, but this would be included in the final calculated total of square footage. This logically should rule them out as a distracting correlation. They will not be included in the model.\n",
    "\n",
    "#### Likewise, we can exclude taxamount from our model as its correlation with tax value will be misleading.\n",
    "\n",
    "#### We can double-check this with some further statistical analysis."
   ]
  },
  {
   "cell_type": "code",
   "execution_count": 7,
   "metadata": {},
   "outputs": [],
   "source": [
    "X_train, y_train = target_split(train, \"tax_val\")"
   ]
  },
  {
   "cell_type": "code",
   "execution_count": 8,
   "metadata": {},
   "outputs": [
    {
     "name": "stdout",
     "output_type": "stream",
     "text": [
      "Index(['bathroomcnt', 'cal_fin_sqf', 'year_built', 'taxamount'], dtype='object') \n",
      "\n",
      "Index(['bedroomcnt', 'bathroomcnt', 'year_built', 'taxamount'], dtype='object')\n"
     ]
    }
   ],
   "source": [
    "corr_features = corr_features[1:]\n",
    "kbest_feats = select_kbest(X_train[corr_features], y_train.values.ravel(), k=4)\n",
    "print(kbest_feats, \"\\n\")\n",
    "rfe_feats = rfe(X_train[corr_features], y_train.values.ravel(), k=4)\n",
    "print(rfe_feats)"
   ]
  },
  {
   "cell_type": "markdown",
   "metadata": {},
   "source": [
    "## Are we ready to model? Some exploartion takeaways...\n",
    "\n",
    "#### As previously discussed, property value is about location, location, location. Also, even though the SelectKBest and RFE feature selections showed varying results, if run multiple times, it is easy to see how bedrooms, bathrooms, and taxamount confused the selection. This helped to prove earlier suspicions. You can see this happen if you refresh the project and run the cells again, you will get different features. Make sure not to run the cells on the same instance, or you will get an error."
   ]
  },
  {
   "cell_type": "markdown",
   "metadata": {},
   "source": [
    "## Creating the Models"
   ]
  },
  {
   "cell_type": "code",
   "execution_count": 9,
   "metadata": {},
   "outputs": [],
   "source": [
    "#initializing model functions and preparing data splits for modeling.\n",
    "OLS = lm.LinearRegression()\n",
    "LassoLars = lm.LassoLars(normalize = True)\n",
    "GLM = lm.TweedieRegressor(power = 1, alpha = 0)\n",
    "\n",
    "model_features = ['cal_fin_sqf', 'year_built', \"f6037\", \"f6059\", \"f6111\", \"tax_val\"]\n",
    "\n",
    "X_train, y_train = target_split(train[model_features], \"tax_val\")\n",
    "X_validate, y_validate = target_split(validate[model_features], \"tax_val\")\n",
    "X_test, y_test = target_split(test[model_features], \"tax_val\")"
   ]
  },
  {
   "cell_type": "code",
   "execution_count": 10,
   "metadata": {},
   "outputs": [
    {
     "data": {
      "text/plain": [
       "352071.24957651045"
      ]
     },
     "execution_count": 10,
     "metadata": {},
     "output_type": "execute_result"
    }
   ],
   "source": [
    "# Establishing model baseline.\n",
    "baseline = baseline_mean(y_validate, \"tax_val\")\n",
    "baseline"
   ]
  },
  {
   "cell_type": "markdown",
   "metadata": {},
   "source": [
    "### Scaling"
   ]
  },
  {
   "cell_type": "code",
   "execution_count": 11,
   "metadata": {},
   "outputs": [
    {
     "data": {
      "text/html": [
       "<div>\n",
       "<style scoped>\n",
       "    .dataframe tbody tr th:only-of-type {\n",
       "        vertical-align: middle;\n",
       "    }\n",
       "\n",
       "    .dataframe tbody tr th {\n",
       "        vertical-align: top;\n",
       "    }\n",
       "\n",
       "    .dataframe thead th {\n",
       "        text-align: right;\n",
       "    }\n",
       "</style>\n",
       "<table border=\"1\" class=\"dataframe\">\n",
       "  <thead>\n",
       "    <tr style=\"text-align: right;\">\n",
       "      <th></th>\n",
       "      <th>cal_fin_sqf</th>\n",
       "      <th>year_built</th>\n",
       "      <th>f6037</th>\n",
       "      <th>f6059</th>\n",
       "      <th>f6111</th>\n",
       "    </tr>\n",
       "  </thead>\n",
       "  <tbody>\n",
       "    <tr>\n",
       "      <th>35903</th>\n",
       "      <td>0.274764</td>\n",
       "      <td>0.565217</td>\n",
       "      <td>1.0</td>\n",
       "      <td>0.0</td>\n",
       "      <td>0.0</td>\n",
       "    </tr>\n",
       "    <tr>\n",
       "      <th>32641</th>\n",
       "      <td>0.655061</td>\n",
       "      <td>0.659420</td>\n",
       "      <td>0.0</td>\n",
       "      <td>1.0</td>\n",
       "      <td>0.0</td>\n",
       "    </tr>\n",
       "    <tr>\n",
       "      <th>41241</th>\n",
       "      <td>0.424831</td>\n",
       "      <td>0.297101</td>\n",
       "      <td>1.0</td>\n",
       "      <td>0.0</td>\n",
       "      <td>0.0</td>\n",
       "    </tr>\n",
       "    <tr>\n",
       "      <th>2384</th>\n",
       "      <td>0.273684</td>\n",
       "      <td>0.123188</td>\n",
       "      <td>1.0</td>\n",
       "      <td>0.0</td>\n",
       "      <td>0.0</td>\n",
       "    </tr>\n",
       "    <tr>\n",
       "      <th>6064</th>\n",
       "      <td>0.223482</td>\n",
       "      <td>0.579710</td>\n",
       "      <td>1.0</td>\n",
       "      <td>0.0</td>\n",
       "      <td>0.0</td>\n",
       "    </tr>\n",
       "  </tbody>\n",
       "</table>\n",
       "</div>"
      ],
      "text/plain": [
       "       cal_fin_sqf  year_built  f6037  f6059  f6111\n",
       "35903     0.274764    0.565217    1.0    0.0    0.0\n",
       "32641     0.655061    0.659420    0.0    1.0    0.0\n",
       "41241     0.424831    0.297101    1.0    0.0    0.0\n",
       "2384      0.273684    0.123188    1.0    0.0    0.0\n",
       "6064      0.223482    0.579710    1.0    0.0    0.0"
      ]
     },
     "execution_count": 11,
     "metadata": {},
     "output_type": "execute_result"
    }
   ],
   "source": [
    "model_features = model_features[:-1]\n",
    "scaled_X_train, scaled_X_validate, scaled_X_test = scaling_min_max(X_train, X_validate, X_test, model_features)\n",
    "scaled_X_train.head()"
   ]
  },
  {
   "cell_type": "markdown",
   "metadata": {},
   "source": [
    "### OLS Model"
   ]
  },
  {
   "cell_type": "code",
   "execution_count": 12,
   "metadata": {},
   "outputs": [
    {
     "name": "stdout",
     "output_type": "stream",
     "text": [
      "195242.06\n",
      "195182.57\n",
      "0.19\n"
     ]
    }
   ],
   "source": [
    "OLS.fit(scaled_X_train, y_train)\n",
    "yhat_train = OLS.predict(scaled_X_train)\n",
    "yhat = OLS.predict(scaled_X_validate)\n",
    "\n",
    "\n",
    "rmse_train = mean_squared_error(y_train, yhat_train)**(0.5)\n",
    "rmse_validate = mean_squared_error(y_validate, yhat)**(0.5)\n",
    "print(round((rmse_train), 2))\n",
    "print(round((rmse_validate), 2))\n",
    "print(round((r2_score(y_validate, yhat)), 3))"
   ]
  },
  {
   "cell_type": "markdown",
   "metadata": {},
   "source": [
    "### LassoLars"
   ]
  },
  {
   "cell_type": "code",
   "execution_count": 13,
   "metadata": {},
   "outputs": [
    {
     "name": "stdout",
     "output_type": "stream",
     "text": [
      "195240.73\n",
      "195184.92\n",
      "0.19\n"
     ]
    }
   ],
   "source": [
    "LassoLars.fit(scaled_X_train, y_train)\n",
    "yhat_train = LassoLars.predict(scaled_X_train)\n",
    "yhat = LassoLars.predict(scaled_X_validate)\n",
    "\n",
    "\n",
    "rmse_train = mean_squared_error(y_train, yhat_train)**(0.5)\n",
    "rmse_validate = mean_squared_error(y_validate, yhat)**(0.5)\n",
    "print(round((rmse_train), 2))\n",
    "print(round((rmse_validate), 2))\n",
    "print(round((r2_score(y_validate, yhat)), 3))"
   ]
  },
  {
   "cell_type": "markdown",
   "metadata": {},
   "source": [
    "### GLM"
   ]
  },
  {
   "cell_type": "code",
   "execution_count": 14,
   "metadata": {},
   "outputs": [
    {
     "name": "stdout",
     "output_type": "stream",
     "text": [
      "195075.16\n",
      "195104.39\n",
      "0.191\n"
     ]
    },
    {
     "name": "stderr",
     "output_type": "stream",
     "text": [
      "/opt/homebrew/anaconda3/lib/python3.9/site-packages/sklearn/utils/validation.py:993: DataConversionWarning: A column-vector y was passed when a 1d array was expected. Please change the shape of y to (n_samples, ), for example using ravel().\n",
      "  y = column_or_1d(y, warn=True)\n"
     ]
    }
   ],
   "source": [
    "GLM.fit(scaled_X_train, y_train)\n",
    "yhat_train = GLM.predict(scaled_X_train)\n",
    "yhat = GLM.predict(scaled_X_validate)\n",
    "\n",
    "\n",
    "rmse_train = mean_squared_error(y_train, yhat_train)**(0.5)\n",
    "rmse_validate = mean_squared_error(y_validate, yhat)**(0.5)\n",
    "print(round((rmse_train), 2))\n",
    "print(round((rmse_validate), 2))\n",
    "print(round((r2_score(y_validate, yhat)), 3))"
   ]
  },
  {
   "cell_type": "markdown",
   "metadata": {},
   "source": [
    "## Which was the best model? Some takeaways...\n",
    "\n",
    "#### Modeling showed that the difference between them to make predictions was way too similar. This might mean that this type of modeling is not optimal for this type of problem. \n",
    "\n",
    "#### However, to complete the project, one model must be chosen for testing. I chose OLS because it was the first option of these models with hardly any  difference. I have a hunch it doesn't matter in the end. Further feature engineering or modeling may prove that hypothesis wrong."
   ]
  },
  {
   "cell_type": "markdown",
   "metadata": {},
   "source": [
    "## Testing - Finally Here!"
   ]
  },
  {
   "cell_type": "code",
   "execution_count": 17,
   "metadata": {},
   "outputs": [
    {
     "name": "stdout",
     "output_type": "stream",
     "text": [
      "138057.02\n",
      "139128.18\n",
      "0.436 \n",
      "\n",
      "217810.2919854756\n",
      "218206.34640233064\n",
      "0.4362519192996382\n"
     ]
    }
   ],
   "source": [
    "OLS.fit(scaled_X_train, y_train)\n",
    "yhat_train = OLS.predict(scaled_X_train)\n",
    "yhat = OLS.predict(scaled_X_test)\n",
    "\n",
    "\n",
    "rmse_train = mean_squared_error(y_train, yhat_train)**(0.5)\n",
    "rmse_test = mean_squared_error(y_test, yhat)**(0.5)\n",
    "print(round((rmse_train), 2))\n",
    "print(round((rmse_test), 2))\n",
    "print(round((r2_score(y_test, yhat)), 3), \"\\n\")\n",
    "\n",
    "y_train[\"baseline_mean\"] = baseline\n",
    "y_test[\"baseline_mean\"] = baseline\n",
    "\n",
    "rmse_train = mean_squared_error(y_train[\"tax_val\"], y_train.baseline_mean)**(0.5)\n",
    "rmse_test = mean_squared_error(y_test[\"tax_val\"], y_test.baseline_mean)**(0.5)\n",
    "print(rmse_train)\n",
    "print(rmse_test)\n",
    "print(r2_score(y_test, yhat))"
   ]
  },
  {
   "cell_type": "markdown",
   "metadata": {},
   "source": [
    "## Couldn't beat baseline! Modeling takeaways...\n",
    "\n",
    "#### It seems these models may require more features put into them to improve their predictive powers. But with the gains being so marginal, it seems like this lends creedence to the earlier hunch that this might need a different approach."
   ]
  },
  {
   "cell_type": "markdown",
   "metadata": {},
   "source": [
    "## Next Steps\n",
    "\n",
    "#### Creating new features and implementing as many features into the models as possible may help, but the true next step would be to use a different method."
   ]
  },
  {
   "cell_type": "markdown",
   "metadata": {},
   "source": [
    "## Want to recreate this project?\n",
    "\n",
    "#### - Download the wrangle2.py, explore2.py, modeling2.py, and final_report2.ipynb files.\n",
    "#### - Add your own env.py file to the directory (username, hostname, password).\n",
    "#### - Run the final_report2.ipynb notebook."
   ]
  }
 ],
 "metadata": {
  "kernelspec": {
   "display_name": "Python 3.9.12 ('base')",
   "language": "python",
   "name": "python3"
  },
  "language_info": {
   "codemirror_mode": {
    "name": "ipython",
    "version": 3
   },
   "file_extension": ".py",
   "mimetype": "text/x-python",
   "name": "python",
   "nbconvert_exporter": "python",
   "pygments_lexer": "ipython3",
   "version": "3.9.12"
  },
  "orig_nbformat": 4,
  "vscode": {
   "interpreter": {
    "hash": "38cca0c38332a56087b24af0bc80247f4fced29cb4f7f437d91dc159adec9c4e"
   }
  }
 },
 "nbformat": 4,
 "nbformat_minor": 2
}
